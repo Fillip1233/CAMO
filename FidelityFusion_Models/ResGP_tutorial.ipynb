{
 "cells": [
  {
   "cell_type": "markdown",
   "metadata": {},
   "source": [
    "# Residual Gaussian process (ResGP) 教程\n",
    "作者：Zhenjie Lu<br />\n",
    "日期: 2024-6-27<br />\n",
    "摘要：2020 年 Xing, Wei W 等人提出残差高斯过程模型（Residual Gaussian process, ResGP）模型，最高精度GP模型写为最低精度GP和各精度GP模型解和解之间的残差项之和的形式, 该方法预测后验的解是闭环解，可以用于复杂的高维数据预测及不确定性估计，同时也降低了训练成本。在代码构建上，它和传统的AR多精度模型有很大的相似性。"
   ]
  },
  {
   "cell_type": "markdown",
   "metadata": {},
   "source": [
    "首先，让我们来导入一些最基础的模块；由于仓库构造的特殊性，需要将工作目录设置到上一层，再导入相应的依赖模块"
   ]
  },
  {
   "cell_type": "code",
   "execution_count": 10,
   "metadata": {},
   "outputs": [],
   "source": [
    "import sys\n",
    "import os\n",
    "\n",
    "# 将上级目录添加到Python路径中\n",
    "current_dir = os.getcwd()\n",
    "parent_dir = os.path.abspath(os.path.join(current_dir, '..'))\n",
    "sys.path.append(parent_dir)"
   ]
  },
  {
   "cell_type": "markdown",
   "metadata": {},
   "source": [
    "和 AR 相同, ResGP的底层也是高斯过程(GP),因此我们需要导入 GP 模块"
   ]
  },
  {
   "cell_type": "code",
   "execution_count": 11,
   "metadata": {},
   "outputs": [],
   "source": [
    "import torch\n",
    "import torch.nn as nn\n",
    "import GaussianProcess.kernel as kernel\n",
    "from GaussianProcess.cigp_v10 import cigp as GPR"
   ]
  },
  {
   "cell_type": "markdown",
   "metadata": {},
   "source": [
    "## 1.模型定义\n",
    "ResGP的表达式可以表示为</br>\n",
    "$y^f (ξ)=∑_{k=1}^fr^k (ξ)(f=1,2,…,F)$</br>\n",
    "$r^f (ξ)= y^f (ξ)- y^{f-1}(ξ)   (f=2,3,…,F)$</br>\n",
    "第𝑓精度的模型𝑓(𝜉)可以看作之前精度的残差项模型的累加，其中残差项$r^f (ξ)$是邻近的两个精度GP解之差"
   ]
  },
  {
   "cell_type": "code",
   "execution_count": 12,
   "metadata": {},
   "outputs": [],
   "source": [
    "class ResGP_demo(nn.Module):\n",
    "    \"\"\"\n",
    "    Residual Gaussian Process model.\n",
    "\n",
    "    Args:\n",
    "        fidelity_num (int): Number of fidelity levels.\n",
    "        kernel_list (list): List of kernels for each fidelity level.\n",
    "        if_nonsubset (bool, optional): Flag indicating if non-subset data is used. Defaults to False.\n",
    "    \"\"\"\n",
    "\n",
    "    def __init__(self, fidelity_num, kernel_list, if_nonsubset=False):\n",
    "        super().__init__()\n",
    "        self.fidelity_num = fidelity_num\n",
    "        self.gpr_list = []\n",
    "        for i in range(self.fidelity_num):\n",
    "            self.gpr_list.append(GPR(kernel=kernel_list[i], log_beta=1.0))\n",
    "        self.gpr_list = torch.nn.ModuleList(self.gpr_list)\n",
    "        self.if_nonsubset = if_nonsubset"
   ]
  },
  {
   "cell_type": "markdown",
   "metadata": {},
   "source": [
    "## 2.前向过程\n",
    "ResGP 的前向过程是指从低精度到高精度的过程，即从低精度数据的高斯过程回归模型和一个残差高斯过程回归组成高精度数据的高斯过程回归; 而贝叶斯方法需要使用先验数据的分布去预测后验，所以在前向过程中，需要使用到训练的数据，在数据管理上，为了避免模型的体量过大，采用特定的数据管理类对数据进行管理。</br>\n",
    "数据被分成子集数据以及非子集数据(高精度的数据的输入部分不是低精度数据的一部分),在处理这种数据的时候，需要进行虚子集部分预测，因此还需要添加一个让模型预测到相应精度的指示位(to_fidelity),模型的前向定义如下："
   ]
  },
  {
   "cell_type": "code",
   "execution_count": 13,
   "metadata": {},
   "outputs": [],
   "source": [
    "def forward_demo(self, data_manager, x_test, to_fidelity=None):\n",
    "    \"\"\"\n",
    "    Forward pass of the ResGP model.\n",
    "\n",
    "    Args:\n",
    "        data_manager (DataManager): Data manager object.\n",
    "        x_test (torch.Tensor): Test input data.\n",
    "        to_fidelity (int, optional): Fidelity level to predict. Defaults to None.\n",
    "\n",
    "    Returns:\n",
    "        torch.Tensor: Predicted output.\n",
    "        torch.Tensor: Covariance of the predictions.\n",
    "    \"\"\"\n",
    "    if to_fidelity is not None:\n",
    "        fidelity_level = to_fidelity\n",
    "    else:\n",
    "        fidelity_level = self.fidelity_num - 1\n",
    "    for i_fidelity in range(fidelity_level + 1):\n",
    "        if i_fidelity == 0:\n",
    "            x_train, y_train = data_manager.get_data(i_fidelity, normal=True)\n",
    "            y_pred_low, cov_pred_low = self.gpr_list[i_fidelity](x_train, y_train, x_test)\n",
    "            if fidelity_level == 0:\n",
    "                y_pred_high = y_pred_low\n",
    "                cov_pred_high = cov_pred_low\n",
    "        else:\n",
    "            x_train, y_train = data_manager.get_data_by_name('res-{}'.format(i_fidelity))\n",
    "            y_pred_res, cov_pred_res = self.gpr_list[i_fidelity](x_train, y_train, x_test)\n",
    "            y_pred_high = y_pred_low + y_pred_res\n",
    "            cov_pred_high = cov_pred_low + cov_pred_res\n",
    "\n",
    "            # for next fidelity\n",
    "            y_pred_low = y_pred_high\n",
    "            cov_pred_low = cov_pred_high\n",
    "\n",
    "    return y_pred_high, cov_pred_high"
   ]
  },
  {
   "cell_type": "markdown",
   "metadata": {},
   "source": [
    "## 3.数据准备\n",
    "为了验证模型,我们需要构建一些多精度的数据，这里我们基于正弦函数构造三精度的实验数据,并将实验数据储存到数据管理类中"
   ]
  },
  {
   "cell_type": "code",
   "execution_count": 14,
   "metadata": {},
   "outputs": [],
   "source": [
    "torch.manual_seed(1)\n",
    "from FidelityFusion_Models.MF_data import MultiFidelityDataManager\n",
    "# generate the data\n",
    "x_all = torch.rand(500, 1) * 20\n",
    "xlow_indices = torch.randperm(500)[:300]\n",
    "xlow_indices = torch.sort(xlow_indices).values\n",
    "x_low = x_all[xlow_indices]\n",
    "xhigh1_indices = torch.randperm(500)[:300]\n",
    "xhigh1_indices = torch.sort(xhigh1_indices).values\n",
    "x_high1 = x_all[xhigh1_indices]\n",
    "xhigh2_indices = torch.randperm(500)[:250]\n",
    "xhigh2_indices = torch.sort(xhigh2_indices).values\n",
    "x_high2 = x_all[xhigh2_indices]\n",
    "x_test = torch.linspace(0, 20, 100).reshape(-1, 1)\n",
    "\n",
    "y_low = torch.sin(x_low) - 0.5 * torch.sin(2 * x_low) + torch.rand(300, 1) * 0.1 - 0.05\n",
    "y_high1 = torch.sin(x_high1) - 0.3 * torch.sin(2 * x_high1) + torch.rand(300, 1) * 0.1 - 0.05\n",
    "y_high2 = torch.sin(x_high2) + torch.rand(250, 1) * 0.1 - 0.05\n",
    "y_test = torch.sin(x_test)\n",
    "\n",
    "initial_data = [\n",
    "    {'raw_fidelity_name': '0','fidelity_indicator': 0, 'X': x_low, 'Y': y_low},\n",
    "    {'raw_fidelity_name': '1','fidelity_indicator': 1, 'X': x_high1, 'Y': y_high1},\n",
    "    {'raw_fidelity_name': '2','fidelity_indicator': 2, 'X': x_high2, 'Y': y_high2},\n",
    "]\n",
    "fidelity_num = len(initial_data)\n",
    "\n",
    "fidelity_manager = MultiFidelityDataManager(initial_data)"
   ]
  },
  {
   "cell_type": "markdown",
   "metadata": {},
   "source": [
    "## 4.封装实例化模型\n",
    "以下我们将ResGP模型的定义以及前向传播封装成一个类,并进行实例化"
   ]
  },
  {
   "cell_type": "code",
   "execution_count": 15,
   "metadata": {},
   "outputs": [],
   "source": [
    "class ResGP(nn.Module):\n",
    "    \"\"\"\n",
    "    Residual Gaussian Process model.\n",
    "\n",
    "    Args:\n",
    "        fidelity_num (int): Number of fidelity levels.\n",
    "        kernel_list (list): List of kernels for each fidelity level.\n",
    "        if_nonsubset (bool, optional): Flag indicating if non-subset data is used. Defaults to False.\n",
    "    \"\"\"\n",
    "\n",
    "    def __init__(self, fidelity_num, kernel_list, if_nonsubset=False):\n",
    "        super().__init__()\n",
    "        self.fidelity_num = fidelity_num\n",
    "        self.gpr_list = []\n",
    "        for i in range(self.fidelity_num):\n",
    "            self.gpr_list.append(GPR(kernel=kernel_list[i], log_beta=1.0))\n",
    "        self.gpr_list = torch.nn.ModuleList(self.gpr_list)\n",
    "        self.if_nonsubset = if_nonsubset\n",
    "\n",
    "    def forward(self, data_manager, x_test, to_fidelity=None):\n",
    "        \"\"\"\n",
    "        Forward pass of the ResGP model.\n",
    "\n",
    "        Args:\n",
    "            data_manager (DataManager): Data manager object.\n",
    "            x_test (torch.Tensor): Test input data.\n",
    "            to_fidelity (int, optional): Fidelity level to predict. Defaults to None.\n",
    "\n",
    "        Returns:\n",
    "            torch.Tensor: Predicted output.\n",
    "            torch.Tensor: Covariance of the predictions.\n",
    "        \"\"\"\n",
    "        if to_fidelity is not None:\n",
    "            fidelity_level = to_fidelity\n",
    "        else:\n",
    "            fidelity_level = self.fidelity_num - 1\n",
    "        for i_fidelity in range(fidelity_level + 1):\n",
    "            if i_fidelity == 0:\n",
    "                x_train, y_train = data_manager.get_data(i_fidelity, normal=True)\n",
    "                y_pred_low, cov_pred_low = self.gpr_list[i_fidelity](x_train, y_train, x_test)\n",
    "                if fidelity_level == 0:\n",
    "                    y_pred_high = y_pred_low\n",
    "                    cov_pred_high = cov_pred_low\n",
    "            else:\n",
    "                x_train, y_train = data_manager.get_data_by_name('res-{}'.format(i_fidelity))\n",
    "                y_pred_res, cov_pred_res = self.gpr_list[i_fidelity](x_train, y_train, x_test)\n",
    "                y_pred_high = y_pred_low + y_pred_res\n",
    "                cov_pred_high = cov_pred_low + cov_pred_res\n",
    "\n",
    "                # for next fidelity\n",
    "                y_pred_low = y_pred_high\n",
    "                cov_pred_low = cov_pred_high\n",
    "\n",
    "        return y_pred_high, cov_pred_high\n",
    "\n",
    "kernel_list = [kernel.SquaredExponentialKernel() for _ in range(fidelity_num)]\n",
    "myResGP = ResGP(fidelity_num = fidelity_num,kernel_list=kernel_list, if_nonsubset = True)"
   ]
  },
  {
   "cell_type": "markdown",
   "metadata": {},
   "source": [
    "## 5.模型训练\n",
    "接下来我们定义模型的训练过程，并对模型进行训练。可以通过训练第$t - 1$个精度的高斯模型$y^{𝑡−1}(𝑥)$和残差高斯模型$r^𝑡(𝑥)$，搭建从第$𝑡 − 1$个精度到第𝑡个精度的等式，使用低精度数据对高一精度的数据进行预测, 训练时，从最低精度高斯模型$y^1(𝑥)$依次向上叠加，直至最高精度$y^f(𝑥)$，训练出各个精度的全部参数。预测时，将输入值$𝑥_f$带入最低精度模型$y^1(𝑥)$，预测出最低精度的输出，再依次向上迭代，直到最高精度数据的预测"
   ]
  },
  {
   "cell_type": "code",
   "execution_count": 16,
   "metadata": {},
   "outputs": [
    {
     "name": "stdout",
     "output_type": "stream",
     "text": [
      "fidelity 0, epoch 200/200, nll: 237.97351074218752\n",
      "fidelity 1, epoch 200/200, nll: 94.379486083984385\n",
      "fidelity 2, epoch 200/200, nll: 126.55236816406258\n"
     ]
    }
   ],
   "source": [
    "def train_ResGP(ResGPmodel, data_manager, max_iter=1000, lr_init=1e-1):\n",
    "    \"\"\"\n",
    "    Trains the Residual Gaussian Process (ResGP) model.\n",
    "\n",
    "    Args:\n",
    "        ResGPmodel (ResGPModel): The ResGP model to train.\n",
    "        data_manager (DataManager): The data manager object.\n",
    "        max_iter (int, optional): The maximum number of iterations for training. Defaults to 1000.\n",
    "        lr_init (float, optional): The initial learning rate for the optimizer. Defaults to 1e-1.\n",
    "        debugger (Debugger, optional): The debugger object for monitoring training progress. Defaults to None.\n",
    "    \"\"\"\n",
    "    for i_fidelity in range(ResGPmodel.fidelity_num):\n",
    "        optimizer = torch.optim.Adam(ResGPmodel.parameters(), lr=lr_init)\n",
    "        if i_fidelity == 0:\n",
    "            x_low, y_low = data_manager.get_data(i_fidelity, normal=True)\n",
    "            for i in range(max_iter):\n",
    "                optimizer.zero_grad()\n",
    "                loss = ResGPmodel.gpr_list[i_fidelity].negative_log_likelihood(x_low, y_low)\n",
    "                loss.backward()\n",
    "                optimizer.step()\n",
    "                # print('fidelity:', i_fidelity, 'iter', i, 'nll:{:.5f}'.format(loss.item()))\n",
    "                print('fidelity {}, epoch {}/{}, nll: {}'.format(i_fidelity, i+1, max_iter, loss.item()), end='\\r')\n",
    "            print('')\n",
    "        else:\n",
    "            if ResGPmodel.if_nonsubset:\n",
    "                with torch.no_grad():\n",
    "                    subset_x, y_low, y_high = data_manager.get_nonsubset_fill_data(ResGPmodel, i_fidelity - 1, i_fidelity)\n",
    "                y_residual_mean = y_high[0] - y_low[0]\n",
    "                y_residual_var = abs(y_high[1] - y_low[1])\n",
    "            else:\n",
    "                _, y_low, subset_x, y_high = data_manager.get_overlap_input_data(i_fidelity - 1, i_fidelity, normal=True)\n",
    "                y_residual_mean = y_high - y_low\n",
    "                y_residual_var = None\n",
    "            if y_residual_var is not None:\n",
    "                y_residual_var = y_residual_var.detach()\n",
    "            data_manager.add_data(raw_fidelity_name='res-{}'.format(i_fidelity), fidelity_index=None, x=subset_x.detach(), y=[y_residual_mean.detach(), y_residual_var])\n",
    "            for i in range(max_iter):\n",
    "                optimizer.zero_grad()\n",
    "                loss = ResGPmodel.gpr_list[i_fidelity].negative_log_likelihood(subset_x, [y_residual_mean, y_residual_var])\n",
    "                loss.backward()\n",
    "                optimizer.step()\n",
    "                # print('fidelity:', i_fidelity, 'iter', i, 'nll:{:.5f}'.format(loss.item()))\n",
    "                print('fidelity {}, epoch {}/{}, nll: {}'.format(i_fidelity, i+1, max_iter, loss.item()), end='\\r')\n",
    "            print('')\n",
    "train_ResGP(myResGP, fidelity_manager, max_iter=200, lr_init=1e-2)"
   ]
  },
  {
   "cell_type": "markdown",
   "metadata": {},
   "source": [
    "## 6.模型预测\n",
    "在模型训练完成后，我们可以使用模型进行预测，这里我们使用训练数据进行预测，预测的结果与真实值进行对比,并进行可视化展示"
   ]
  },
  {
   "cell_type": "code",
   "execution_count": 17,
   "metadata": {},
   "outputs": [
    {
     "data": {
      "image/png": "[encoded data removed]",
      "text/plain": [
       "<Figure size 432x288 with 1 Axes>"
      ]
     },
     "metadata": {},
     "output_type": "display_data"
    }
   ],
   "source": [
    "import matplotlib.pyplot as plt\n",
    "with torch.no_grad():\n",
    "    x_test = fidelity_manager.normalizelayer[myResGP.fidelity_num-1].normalize_x(x_test)\n",
    "    ypred, ypred_var = myResGP(fidelity_manager, x_test)\n",
    "    ypred, ypred_var = fidelity_manager.normalizelayer[myResGP.fidelity_num-1].denormalize(ypred, ypred_var)\n",
    "        \n",
    "plt.figure()\n",
    "plt.errorbar(x_test.flatten(), ypred.reshape(-1).detach(), ypred_var.diag().sqrt().squeeze().detach(), fmt = 'r-.' ,alpha = 0.2)\n",
    "plt.fill_between(x_test.flatten(), ypred.reshape(-1).detach() - ypred_var.diag().sqrt().squeeze().detach(), ypred.reshape(-1).detach() + ypred_var.diag().sqrt().squeeze().detach(), alpha = 0.2)\n",
    "plt.plot(x_test.flatten(), y_test, 'k+')\n",
    "plt.show()"
   ]
  }
 ],
 "metadata": {
  "language_info": {
   "name": "python"
  }
 },
 "nbformat": 4,
 "nbformat_minor": 2
}
