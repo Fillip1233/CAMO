{
 "cells": [
  {
   "cell_type": "markdown",
   "metadata": {},
   "source": [
    "# Autoregression (AR) 教程\n",
    "作者：Zhenjie Lu<br />\n",
    "日期: 2024-6-24<br />\n",
    "摘要：2000 年 Kennedy 和 O'Hagan 提出线性自回归（AR）模型，假设低精度模型和比它高一精度的模型之间存在线性关系，即高精度数据的高斯过程回归（GP）模型可以由低精度数据的高斯过程回归模型乘比例系数和一个残差高斯过程回归组成。这个是多精度算法的一个很典型的例子。在这个教程中，主要介绍AR的模型构建以及基本应用。"
   ]
  },
  {
   "cell_type": "markdown",
   "metadata": {},
   "source": [
    "首先，让我们来导入一些最基础的模块；由于仓库构造的特殊性，需要将工作目录设置到上一层，再导入相应的依赖模块"
   ]
  },
  {
   "cell_type": "code",
   "execution_count": 1,
   "metadata": {},
   "outputs": [],
   "source": [
    "import sys\n",
    "import os\n",
    "\n",
    "# 将上级目录添加到Python路径中\n",
    "current_dir = os.getcwd()\n",
    "parent_dir = os.path.abspath(os.path.join(current_dir, '..'))\n",
    "sys.path.append(parent_dir)"
   ]
  },
  {
   "cell_type": "markdown",
   "metadata": {},
   "source": [
    "AR 的底层是高斯过程（GP）所以在导入模块的时候，我们需要导入高斯过程的模块"
   ]
  },
  {
   "cell_type": "code",
   "execution_count": 2,
   "metadata": {},
   "outputs": [
    {
     "name": "stdout",
     "output_type": "stream",
     "text": [
      "2.0.1+cu118\n"
     ]
    }
   ],
   "source": [
    "import torch\n",
    "import torch.nn as nn\n",
    "import GaussianProcess.kernel as kernel\n",
    "from GaussianProcess.cigp_v10 import cigp as GPR"
   ]
  },
  {
   "cell_type": "markdown",
   "metadata": {},
   "source": [
    "## 1.模型定义\n",
    "AR 的表达式可以表示为$z_t (x)=ρ_{t-1} z_{t-1} (x)+ δ_t (x)(t=2,3,…,s)$,t表示精度，$ρ$表示高低精度之间的精度系数，$δ$表示残差高斯过程,以下是AR的模型构建"
   ]
  },
  {
   "cell_type": "code",
   "execution_count": 3,
   "metadata": {},
   "outputs": [],
   "source": [
    "class AR_demo(nn.Module):\n",
    "    \"\"\"\n",
    "    AutoRegression model for fidelity fusion.\n",
    "\n",
    "    Args:\n",
    "        fidelity_num (int): Number of fidelity levels.\n",
    "        kernel_list (list): List of kernels for each fidelity level.\n",
    "        rho_init (float, optional): Initial value for rho. Defaults to 1.0.\n",
    "        if_nonsubset (bool, optional): Flag indicating if non-subset training is used. Defaults to False.\n",
    "\n",
    "    Attributes:\n",
    "        gpr_list (torch.nn.ModuleList): List of Gaussian Process Regression models for each fidelity level.\n",
    "        rho_list (torch.nn.ParameterList): List of rho parameters for each fidelity level.\n",
    "        if_nonsubset (bool): Flag indicating if non-subset training is used.\n",
    "\n",
    "    \"\"\"\n",
    "\n",
    "    def __init__(self, fidelity_num, kernel_list, rho_init=1.0, if_nonsubset=False):\n",
    "        \"\"\"\n",
    "        Initialize the AR model.\n",
    "\n",
    "        Args:\n",
    "            fidelity_num (int): Number of fidelity levels.\n",
    "            kernel_list (list): List of kernels for each fidelity level.\n",
    "            rho_init (float, optional): Initial value for rho. Defaults to 1.0.\n",
    "            if_nonsubset (bool, optional): Flag indicating if non-subset training is used. Defaults to False.\n",
    "\n",
    "        \"\"\"\n",
    "        super().__init__()\n",
    "        self.fidelity_num = fidelity_num\n",
    "        self.gpr_list = []\n",
    "        for i in range(self.fidelity_num):\n",
    "            self.gpr_list.append(GPR(kernel=kernel_list[i], log_beta=1.0))\n",
    "        self.gpr_list = torch.nn.ModuleList(self.gpr_list)\n",
    "\n",
    "        self.rho_list = []\n",
    "        for _ in range(self.fidelity_num - 1):\n",
    "            self.rho_list.append(torch.nn.Parameter(torch.tensor(rho_init)))\n",
    "        self.rho_list = torch.nn.ParameterList(self.rho_list)\n",
    "        self.if_nonsubset = if_nonsubset"
   ]
  },
  {
   "cell_type": "markdown",
   "metadata": {},
   "source": [
    "## 2.前向过程\n",
    "AR 的前向过程是指从低精度到高精度的过程，即从低精度数据的高斯过程回归模型乘比例系数和一个残差高斯过程回归组成高精度数据的高斯过程回归; 而贝叶斯方法需要使用先验数据的分布去预测后验，所以在前向过程中，需要使用到训练的数据，在数据管理上，为了避免模型的体量过大，采用特定的数据管理类对数据进行管理。</br>\n",
    "数据被分成子集数据以及非子集数据(高精度的数据的输入部分不是低精度数据的一部分),在处理这种数据的时候，需要进行虚子集部分预测，因此还需要添加一个让模型预测到相应精度的指示位(to_fidelity),模型的前向定义如下："
   ]
  },
  {
   "cell_type": "code",
   "execution_count": 4,
   "metadata": {},
   "outputs": [],
   "source": [
    "def forward_demo(self, data_manager, x_test, to_fidelity=None):\n",
    "    \"\"\"\n",
    "    Forward pass of the AR model.\n",
    "\n",
    "    Args:\n",
    "        data_manager (DataManager): Data manager object.\n",
    "        x_test (torch.Tensor): Input tensor for prediction.\n",
    "        to_fidelity (int, optional): Fidelity level to predict. Defaults to None.\n",
    "\n",
    "    Returns:\n",
    "        y_pred_high (torch.Tensor): Predicted output at the highest fidelity level.\n",
    "        cov_pred_high (torch.Tensor): Covariance of the predicted output at the highest fidelity level.\n",
    "\n",
    "    \"\"\"\n",
    "    if to_fidelity is not None:\n",
    "        fidelity_level = to_fidelity\n",
    "    else:\n",
    "        fidelity_level = self.fidelity_num - 1\n",
    "    for i_fidelity in range(fidelity_level + 1):\n",
    "        if i_fidelity == 0:\n",
    "            x_train, y_train = data_manager.get_data(i_fidelity, normal=True)\n",
    "            y_pred_low, cov_pred_low = self.gpr_list[i_fidelity](x_train, y_train, x_test)\n",
    "            if fidelity_level == 0:\n",
    "                y_pred_high = y_pred_low\n",
    "                cov_pred_high = cov_pred_low\n",
    "        else:\n",
    "            x_train, y_train = data_manager.get_data_by_name('res-{}'.format(i_fidelity))\n",
    "            y_pred_res, cov_pred_res = self.gpr_list[i_fidelity](x_train, y_train, x_test)\n",
    "            y_pred_high = y_pred_low + self.rho_list[i_fidelity - 1] * y_pred_res\n",
    "            cov_pred_high = cov_pred_low + (self.rho_list[i_fidelity - 1] ** 2) * cov_pred_res\n",
    "            y_pred_low = y_pred_high\n",
    "            cov_pred_low = cov_pred_high\n",
    "\n",
    "    return y_pred_high, cov_pred_high"
   ]
  },
  {
   "cell_type": "markdown",
   "metadata": {},
   "source": [
    "## 3.数据准备\n",
    "为了验证模型,我们需要构建一些多精度的数据，这里我们基于正弦函数构造三精度的实验数据,并将实验数据储存到数据管理类中"
   ]
  },
  {
   "cell_type": "code",
   "execution_count": 5,
   "metadata": {},
   "outputs": [],
   "source": [
    "from FidelityFusion_Models.MF_data import MultiFidelityDataManager\n",
    "torch.manual_seed(1)\n",
    "# generate the data\n",
    "x_all = torch.rand(500, 1) * 20\n",
    "xlow_indices = torch.randperm(500)[:300]\n",
    "xlow_indices = torch.sort(xlow_indices).values\n",
    "x_low = x_all[xlow_indices]\n",
    "xhigh1_indices = torch.randperm(500)[:300]\n",
    "xhigh1_indices = torch.sort(xhigh1_indices).values\n",
    "x_high1 = x_all[xhigh1_indices]\n",
    "xhigh2_indices = torch.randperm(500)[:250]\n",
    "xhigh2_indices = torch.sort(xhigh2_indices).values\n",
    "x_high2 = x_all[xhigh2_indices]\n",
    "x_test = torch.linspace(0, 20, 100).reshape(-1, 1)\n",
    "\n",
    "y_low = torch.sin(x_low) - 0.5 * torch.sin(2 * x_low) + torch.rand(300, 1) * 0.1 - 0.05\n",
    "y_high1 = torch.sin(x_high1) - 0.3 * torch.sin(2 * x_high1) + torch.rand(300, 1) * 0.1 - 0.05\n",
    "y_high2 = torch.sin(x_high2) + torch.rand(250, 1) * 0.1 - 0.05\n",
    "y_test = torch.sin(x_test)\n",
    "\n",
    "initial_data = [\n",
    "    {'raw_fidelity_name': '0','fidelity_indicator': 0, 'X': x_low, 'Y': y_low},\n",
    "    {'raw_fidelity_name': '1','fidelity_indicator': 1, 'X': x_high1, 'Y': y_high1},\n",
    "    {'raw_fidelity_name': '2','fidelity_indicator': 2, 'X': x_high2, 'Y': y_high2},\n",
    "]\n",
    "fidelity_num = len(initial_data)\n",
    "fidelity_manager = MultiFidelityDataManager(initial_data)"
   ]
  },
  {
   "cell_type": "markdown",
   "metadata": {},
   "source": [
    "## 4.封装实例化模型\n",
    "以下我们将AR模型的定义以及前向传播封装成一个类,并进行实例化"
   ]
  },
  {
   "cell_type": "code",
   "execution_count": 6,
   "metadata": {},
   "outputs": [],
   "source": [
    "class AR(nn.Module):\n",
    "    def __init__(self, fidelity_num, kernel_list, rho_init=1.0, if_nonsubset=False):\n",
    "        super().__init__()\n",
    "        self.fidelity_num = fidelity_num\n",
    "        self.gpr_list = []\n",
    "        for i in range(self.fidelity_num):\n",
    "            self.gpr_list.append(GPR(kernel=kernel_list[i], log_beta=1.0))\n",
    "        self.gpr_list = torch.nn.ModuleList(self.gpr_list)\n",
    "\n",
    "        self.rho_list = []\n",
    "        for _ in range(self.fidelity_num - 1):\n",
    "            self.rho_list.append(torch.nn.Parameter(torch.tensor(rho_init)))\n",
    "        self.rho_list = torch.nn.ParameterList(self.rho_list)\n",
    "        self.if_nonsubset = if_nonsubset\n",
    "\n",
    "    def forward(self, data_manager, x_test, to_fidelity=None):\n",
    "        if to_fidelity is not None:\n",
    "            fidelity_level = to_fidelity\n",
    "        else:\n",
    "            fidelity_level = self.fidelity_num - 1\n",
    "        for i_fidelity in range(fidelity_level + 1):\n",
    "            if i_fidelity == 0:\n",
    "                x_train, y_train = data_manager.get_data(i_fidelity, normal=True)\n",
    "                y_pred_low, cov_pred_low = self.gpr_list[i_fidelity](x_train, y_train, x_test)\n",
    "                if fidelity_level == 0:\n",
    "                    y_pred_high = y_pred_low\n",
    "                    cov_pred_high = cov_pred_low\n",
    "            else:\n",
    "                x_train, y_train = data_manager.get_data_by_name('res-{}'.format(i_fidelity))\n",
    "                y_pred_res, cov_pred_res = self.gpr_list[i_fidelity](x_train, y_train, x_test)\n",
    "                y_pred_high = y_pred_low + self.rho_list[i_fidelity - 1] * y_pred_res\n",
    "                cov_pred_high = cov_pred_low + (self.rho_list[i_fidelity - 1] ** 2) * cov_pred_res\n",
    "                y_pred_low = y_pred_high\n",
    "                cov_pred_low = cov_pred_high\n",
    "\n",
    "        return y_pred_high, cov_pred_high\n",
    "\n",
    "kernel_list = [kernel.SquaredExponentialKernel() for _ in range(fidelity_num)]\n",
    "myAR = AR(fidelity_num = fidelity_num, kernel_list = kernel_list, rho_init=1.0, if_nonsubset=True)"
   ]
  },
  {
   "cell_type": "markdown",
   "metadata": {},
   "source": [
    "## 5.模型训练\n",
    "接下来我们定义模型的训练过程，并对模型进行训练。可以通过训练第$t - 1$个精度的高斯模型$𝑧_{𝑡−1}(𝑥)$、比例系数$𝜌_{𝑡−1}$和残差高斯模型$𝛿_𝑡(𝑥)$，搭建从第$𝑡 − 1$个精度到第𝑡个精度的等式，使用低精度数据对高一精度的数据进行预测, 训练时，从最低精度高斯模型$𝑧_1(𝑥)$依次向上迭代，直至最高精度$𝑧_𝑠(𝑥)$，训练出各个精度的全部参数。预测时，将输入值$𝑥_𝑡$带入最低精度模型$𝑧_1(𝑥)$，预测出最低精度的输出，再依次向上迭代，直到最高精度数据的预测"
   ]
  },
  {
   "cell_type": "code",
   "execution_count": 7,
   "metadata": {},
   "outputs": [],
   "source": [
    "def train_AR(ARmodel, data_manager, max_iter=1000, lr_init=1e-1):\n",
    "    \"\"\"\n",
    "    Trains an auto-regression model using the specified ARmodel and data_manager.\n",
    "\n",
    "    Args:\n",
    "        ARmodel (AutoRegressionModel): The auto-regression model to train.\n",
    "        data_manager (DataManager): The data manager object that provides the training data.\n",
    "        max_iter (int, optional): The maximum number of iterations for training. Defaults to 1000.\n",
    "        lr_init (float, optional): The initial learning rate for the optimizer. Defaults to 0.1.\n",
    "    \"\"\"\n",
    "    for i_fidelity in range(ARmodel.fidelity_num):\n",
    "        optimizer = torch.optim.Adam(ARmodel.parameters(), lr=lr_init)\n",
    "        if i_fidelity == 0:\n",
    "            x_low, y_low = data_manager.get_data(i_fidelity, normal=True)\n",
    "            for i in range(max_iter):\n",
    "                optimizer.zero_grad()\n",
    "                loss = ARmodel.gpr_list[i_fidelity].negative_log_likelihood(x_low, y_low)\n",
    "                loss.backward()\n",
    "                optimizer.step()\n",
    "                print('fidelity {}, epoch {}/{}, nll: {}'.format(i_fidelity, i+1, max_iter, loss.item()), end='\\r')\n",
    "            print('')\n",
    "        else:\n",
    "            if ARmodel.if_nonsubset:\n",
    "                with torch.no_grad():\n",
    "                    subset_x, y_low, y_high = data_manager.get_nonsubset_fill_data(ARmodel, i_fidelity - 1, i_fidelity)\n",
    "            else:\n",
    "                _, y_low, subset_x, y_high = data_manager.get_overlap_input_data(i_fidelity - 1, i_fidelity, normal=True)\n",
    "            for i in range(max_iter):\n",
    "                optimizer.zero_grad()\n",
    "                if ARmodel.if_nonsubset:\n",
    "                    y_residual_mean = y_high[0] - ARmodel.rho_list[i_fidelity - 1] * y_low[0]\n",
    "                    y_residual_var = abs(y_high[1] - (ARmodel.rho_list[i_fidelity - 1]**2) * y_low[1])\n",
    "                else:\n",
    "                    y_residual_mean = y_high - ARmodel.rho_list[i_fidelity - 1] * y_low\n",
    "                    y_residual_var = None\n",
    "                if i == max_iter - 1:\n",
    "                    if y_residual_var is not None:\n",
    "                        y_residual_var = y_residual_var.detach()\n",
    "                    data_manager.add_data(raw_fidelity_name='res-{}'.format(i_fidelity), fidelity_index=None, x=subset_x.detach(), y=[y_residual_mean.detach(), y_residual_var])\n",
    "                loss = ARmodel.gpr_list[i_fidelity].negative_log_likelihood(subset_x, [y_residual_mean, y_residual_var])\n",
    "                loss.backward()\n",
    "                optimizer.step()\n",
    "                print('fidelity {}, epoch {}/{},rho {}, nll: {}'.format(i_fidelity, i+1, max_iter, ARmodel.rho_list[i_fidelity - 1].item(), loss.item()), end='\\r')\n",
    "            print('')"
   ]
  },
  {
   "cell_type": "markdown",
   "metadata": {},
   "source": [
    "## 6.模型预测\n",
    "在模型训练完成后，我们可以使用模型进行预测，这里我们使用训练数据进行预测，预测的结果与真实值进行对比,并进行可视化展示"
   ]
  },
  {
   "cell_type": "code",
   "execution_count": 8,
   "metadata": {},
   "outputs": [
    {
     "name": "stderr",
     "output_type": "stream",
     "text": [
      "d:\\luzhenjie\\mfbo_v2\\GaussianProcess\\cigp_v10.py:63: UserWarning: torch.triangular_solve is deprecated in favor of torch.linalg.solve_triangularand will be removed in a future PyTorch release.\n",
      "torch.linalg.solve_triangular has its arguments reversed and does not return a copy of one of the inputs.\n",
      "X = torch.triangular_solve(B, A).solution\n",
      "should be replaced with\n",
      "X = torch.linalg.solve_triangular(A, B). (Triggered internally at C:\\actions-runner\\_work\\pytorch\\pytorch\\builder\\windows\\pytorch\\aten\\src\\ATen\\native\\BatchLinearAlgebra.cpp:2197.)\n",
      "  Gamma,_ = torch.triangular_solve(y_train, L, upper = False)\n"
     ]
    },
    {
     "name": "stdout",
     "output_type": "stream",
     "text": [
      "fidelity 0, epoch 200/200, nll: 237.98733520507812\n",
      "fidelity 1, epoch 200/200,rho 1.013174057006836, nll: 93.9961853027343826\n",
      "fidelity 2, epoch 200/200,rho 0.890105128288269, nll: 114.516143798828128\n"
     ]
    },
    {
     "data": {
      "image/png": "[encoded data removed]",
      "text/plain": [
       "<Figure size 640x480 with 1 Axes>"
      ]
     },
     "metadata": {},
     "output_type": "display_data"
    }
   ],
   "source": [
    "train_AR(myAR, fidelity_manager, max_iter=200, lr_init=1e-2)\n",
    "\n",
    "with torch.no_grad():\n",
    "    x_test = fidelity_manager.normalizelayer[myAR.fidelity_num-1].normalize_x(x_test)\n",
    "    ypred, ypred_var = myAR(fidelity_manager,x_test)\n",
    "    ypred, ypred_var = fidelity_manager.normalizelayer[myAR.fidelity_num-1].denormalize(ypred, ypred_var)\n",
    "\n",
    "import matplotlib.pyplot as plt\n",
    "plt.figure()\n",
    "plt.errorbar(x_test.flatten(), ypred.reshape(-1).detach(), ypred_var.diag().sqrt().squeeze().detach(), fmt='r-.' ,alpha = 0.2)\n",
    "plt.fill_between(x_test.flatten(), ypred.reshape(-1).detach() - ypred_var.diag().sqrt().squeeze().detach(), ypred.reshape(-1).detach() + ypred_var.diag().sqrt().squeeze().detach(), alpha = 0.2)\n",
    "plt.plot(x_test.flatten(), y_test, 'k+')\n",
    "plt.show()"
   ]
  }
 ],
 "metadata": {
  "kernelspec": {
   "display_name": "fan",
   "language": "python",
   "name": "python3"
  },
  "language_info": {
   "codemirror_mode": {
    "name": "ipython",
    "version": 3
   },
   "file_extension": ".py",
   "mimetype": "text/x-python",
   "name": "python",
   "nbconvert_exporter": "python",
   "pygments_lexer": "ipython3",
   "version": "3.9.16"
  }
 },
 "nbformat": 4,
 "nbformat_minor": 2
}
